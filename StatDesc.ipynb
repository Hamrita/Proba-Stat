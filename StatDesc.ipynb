{
  "nbformat": 4,
  "nbformat_minor": 0,
  "metadata": {
    "colab": {
      "name": "StatDesc.ipynb",
      "provenance": [],
      "authorship_tag": "ABX9TyM7T7sCx0lrAVT2kBzwPQnX",
      "include_colab_link": true
    },
    "kernelspec": {
      "name": "ir",
      "display_name": "R"
    },
    "language_info": {
      "name": "R"
    }
  },
  "cells": [
    {
      "cell_type": "markdown",
      "metadata": {
        "id": "view-in-github",
        "colab_type": "text"
      },
      "source": [
        "<a href=\"https://colab.research.google.com/github/Hamrita/Proba-Stat/blob/main/StatDesc.ipynb\" target=\"_parent\"><img src=\"https://colab.research.google.com/assets/colab-badge.svg\" alt=\"Open In Colab\"/></a>"
      ]
    },
    {
      "cell_type": "markdown",
      "source": [
        "# Statistiques descriptives d'une variable\n",
        "Dans ce chapitre nous discuterons l'analyse decriptive des données statistiques. Ce chapitre sera décomposé de quatre sections:\n",
        "\n",
        "*   La représentation graphique\n",
        "*   Mesures de tendance centrale\n",
        "*   Mesures de dispersion\n",
        "*   Mesures de concentration\n",
        "\n",
        "Nous commençons par quelques définitions:\n",
        "\n",
        "*   __Variable statistique (caractère statistique):__ C'est ce qui est observé ou mesuré sur les individus d'une population statistique. Il peut s'agir d'une variable qualitative ou quantitative.\n",
        "*   __Variable qualitative:__ Une variable statistique est qualitative si les valeurs prises par la variables ne sont pas mesurables (exemple: couleur des yeux, mention, état civil, etc ...).\n",
        "*   __Variable quantitative:__ Une variable est quantitative si les valeurs prises par cette variable sont mésurables. On distingue entre les variables quantitatives discrètes (les valeurs prises par la variables sont des entiers, exemple: nombre d'enfants dans un ménage, le nombre d'accidents par mois, etc...) et la variables quantitatives continues (les valeurs sont des réelles, exemple: le poids, la taille, le revenu, etc...).\n",
        "\n",
        "## La représentation graphique:\n",
        "\n",
        "### Variable qualitative: \n",
        "La variable qualitative peut être représentée par un __diagramme en bâton__ ou par un __diagramme en secteurs__."
      ],
      "metadata": {
        "id": "pAdxo-Nnrwrg"
      }
    },
    {
      "cell_type": "code",
      "execution_count": null,
      "metadata": {
        "id": "pQ9lnFczrtpH"
      },
      "outputs": [],
      "source": [
        "# Exemple (barplot)\n",
        "x=c(\"H\",\"F\",\"F\",\"H\",\"F\",\"F\",\"F\",\"H\")\n",
        "y=c(\"AB\",\"P\", \"B\", \"P\", \"B\", \"AB\", \"P\",\"B\")\n",
        "df=data.frame(x,y)\n",
        "barplot(table(x))\n",
        "barplot(table(df$x,df$y), beside = TRUE)"
      ]
    },
    {
      "cell_type": "code",
      "source": [
        "# diagramme en secteurs\n",
        "pie(table(x), col = c(\"skyblue\",\"orange\"))"
      ],
      "metadata": {
        "id": "62jZBpZNz_AF"
      },
      "execution_count": null,
      "outputs": []
    },
    {
      "cell_type": "markdown",
      "source": [
        "### Variable quantitative\n",
        "\n",
        "La représentation d'une variable quantitative se fait soit par un __diagramme en bâton__ (dans le cas discret) soit par un __histogramme__ (cas d'une variable continue)."
      ],
      "metadata": {
        "id": "PNTdnyXZ0zKG"
      }
    },
    {
      "cell_type": "code",
      "source": [
        "# cas discret\n",
        "set.seed(12345)\n",
        "discret=sample(1:5,size=30,replace = TRUE) # tirage aléatoires avec remise\n",
        "plot(discret, type=\"h\", lwd=4, col=4)"
      ],
      "metadata": {
        "id": "SrqWYvz64f2B"
      },
      "execution_count": null,
      "outputs": []
    },
    {
      "cell_type": "code",
      "source": [
        "# cas continu\n",
        "set.seed(12345)\n",
        "cont=rnorm(100)\n",
        "hist(cont)"
      ],
      "metadata": {
        "id": "V9iuWm6951p7"
      },
      "execution_count": null,
      "outputs": []
    },
    {
      "cell_type": "code",
      "source": [
        "hist(cont, breaks=5)"
      ],
      "metadata": {
        "id": "EFZl1VOk6TrJ"
      },
      "execution_count": null,
      "outputs": []
    },
    {
      "cell_type": "code",
      "source": [
        "hist(cont, breaks = 5, freq=FALSE)"
      ],
      "metadata": {
        "id": "6yv81kD06gEK"
      },
      "execution_count": null,
      "outputs": []
    },
    {
      "cell_type": "markdown",
      "source": [
        "## Mesures de tendance centrale"
      ],
      "metadata": {
        "id": "dfbMUkez6z3S"
      }
    },
    {
      "cell_type": "markdown",
      "source": [
        "### La moyenne arithmétique:\n",
        "\n",
        "La moyenne arithmétique, notée $\\overline{X}$, est définie par:\n",
        "$$\n",
        "\\overline{X}=\\begin{cases}\n",
        "\\dfrac{1}{n}\\displaystyle{\\sum_{i=1}^nX_i},\\text{ cas des données non groupées}\\\\\n",
        "\\dfrac{1}{n}\\displaystyle{\\sum_{i=1}^nn_iX_i},\\text{ cas des données groupées}\n",
        "\\end{cases}\n",
        "$$"
      ],
      "metadata": {
        "id": "YIy0GypDfgL5"
      }
    },
    {
      "cell_type": "code",
      "source": [
        "# données non groupées\n",
        "x1=c(1,0,2,3,1,5,6,1)\n",
        "# n = length(x1); x.bar=1/n*sum(x1)\n",
        "mean(x1)"
      ],
      "metadata": {
        "id": "VhpvqhwT8Ocr"
      },
      "execution_count": null,
      "outputs": []
    },
    {
      "cell_type": "markdown",
      "source": [
        "\n",
        "|   $X_i$   |  $n_i$  |\n",
        "|:---------:|:-------:|\n",
        "|    12     |    3    |\n",
        "|    15     |    8    |\n",
        "|    17     |    7    |\n",
        "|    19     |    5    |\n"
      ],
      "metadata": {
        "id": "97g3WPFL8rCU"
      }
    },
    {
      "cell_type": "code",
      "source": [
        "xi=c(12,15,17,19)\n",
        "ni=c(3,8,7,5); n=sum(ni)\n",
        "xBar=1/n*sum(xi)\n",
        "xBar"
      ],
      "metadata": {
        "id": "vq5hZ8MH-dSU"
      },
      "execution_count": null,
      "outputs": []
    },
    {
      "cell_type": "markdown",
      "source": [
        "Lorsque la variable statistique est quantitative et les données sont groupées, la moyenne arithmétique sera définie par:\n",
        "$$\n",
        "\\overline{X}=\\dfrac{1\n",
        "}{n}\\displaystyle{\\sum_{i=1}^nn_ic_i},\\text{ où } c_i \\text{ sont les centres des classes}$$\n",
        "\n",
        "__Exemple__ On dispose des résultats d’une enquête concernant les loyers annuels des appartements dans un quartier de la ville.\n",
        "\n",
        "| Montant du loyer (x1000) |   Effectifs  |\n",
        "|:------------------------:|:------------:|\n",
        "| $[4,6[$                  |    $20$      |\n",
        "| $[6,8[$                  |    $40$      |\n",
        "| $[8,10[$                 |    $80$      |\n",
        "| $[10,15[$                |    $30$      |\n",
        "| $[15,20[$                |    $25$      |\n",
        "\n",
        "Déterminer la moyenne arithmétique."
      ],
      "metadata": {
        "id": "HKvy6sR6L2Wr"
      }
    },
    {
      "cell_type": "code",
      "source": [
        "ci=c(5,7,9,12.5,17.5)\n",
        "ni=c(20,40,80,30,25); n=sum(ni)\n",
        "x_bar=1/n*sum(ni*ci)\n",
        "x_bar"
      ],
      "metadata": {
        "id": "pFHyKbC9Pj8z"
      },
      "execution_count": null,
      "outputs": []
    },
    {
      "cell_type": "markdown",
      "source": [
        "### Le mode\n",
        "Le mode est la modalité ou la classe la plus fréquente (la plus observée). Dans le cas d'une variable quantitative et lorsque les classes n'ont pas la même amplititude, on détermine le mode par la fréquence corrigée qui est définie par: $n_i^c=\\dfrac{n_i}{a_i}$ où $a_i$ est l'amplitude de la classe $i$.\n",
        "\n",
        "__Exemple__ On observe 100 fois le nombre d’arrivées (variable $X$) de clients à un bureau de poste pendant un intervalle de temps (10 minutes) et on obtient les valeurs suivantes:\n",
        "\n",
        "| $X$  | 1  |  2  |  3  |  4  |  5  |  6  |\n",
        "|:----:|:--:|:---:|:---:|:---:|:---:|:---:|\n",
        "|$n_i$ | 15 |  20 |  25 |  20 |  7  |  13 |\n",
        "\n",
        "Le mode est $Mode(X)=3$ puisque la modalité ($X=3$) est la plus observée.\n",
        "\n",
        "Pour le cas continu, si on prend l\"exemple précédent, on aura:\n",
        "\n",
        "$a_i=(2,2,2,5,5)$, donc $n_i^c=(10,20,40,6,5)$. $\\max\\{n_i^c\\}=40$ qui correspond à la classe $[8,10[$. "
      ],
      "metadata": {
        "id": "w1iPMd1-QaE8"
      }
    },
    {
      "cell_type": "markdown",
      "source": [
        "### La médiane\n",
        "\n",
        "La médiane, notée $Me$, est le point milieu d’un jeu de données, de sorte que 50 % des unités ont une valeur inférieure ou égale à la médiane et 50 % des unités ont une valeur supérieure ou égale: $prop(X \\leq Me)=0.5$, en d'autres termes $F(Me)=0.5$ où $F()$ est la fréquence cumulée croissante, i.e. $F_i=\\displaystyle{\\dfrac{\\sum_{j=1}^i n_j} {n}}$.\n",
        "\n",
        "Dans le cas discret, on distingue deux cas:\n",
        "\n",
        "*   $n$ est impair: Si le nombre de valeurs est un nombre impair, il faut lui additionner 1, puis le diviser par 2 pour obtenir le rang qui correspondra à la médiane. Le rang est la position d’une valeur une fois l’ensemble ordonné.\n",
        "\n",
        "| $X$  | 1  |  2  |  3  |  4  |  5  |  6  |\n",
        "|:----:|:--:|:---:|:---:|:---:|:---:|:---:|\n",
        "|$n_i$ | 15 |  20 |  24 |  20 |  7  |  13 |\n",
        "\n",
        "Ici, $n=99$ est impair, $\\dfrac{n+1}{2}=50$. La 50 ième observation ordonnée correspond à la valeur 3. Donc $Me(X)=3$.\n",
        "\n",
        "*   $n$ est pair: Si le nombre de valeurs est un nombre pair, la médiane correspondra à la moyenne des valeurs de rang $\\dfrac{n}{2}$ et $\\dfrac{n}{ 2}+1$.\n",
        "\n",
        "Reprenons l'exemple du nombre de visiteurs, on a $n=100$. Donc la médiane est la moyenne de la 50 ième observation et la 51 ième observation ((3+3)/2=3).\n",
        "\n",
        "Dans le cas continu, $F(Me)=0.5 \\in [F(a),F(b)]$, donc \n",
        "$$\n",
        "Me=a + (0.5-F(a))\\dfrac{b-a}{F(b)-F(a)}\n",
        "$$\n",
        "Reprenons l'exemple précédent $F_i=(0.102, 0.307, 0.718, 0.872,1)$. On voit bien que $0.5 \\in [0.307,0.718]=[F(8), F(10]$, donc $Me \\in [8, 10]$. Ainsi, $Me= 8+(0.5-0.307)\\dfrac{10-8}{0.718-0.307}=8.94$\n"
      ],
      "metadata": {
        "id": "Q3XtEZxlVCbg"
      }
    },
    {
      "cell_type": "code",
      "source": [
        "Fi=cumsum(ni)/sum(ni)\n",
        "Fi"
      ],
      "metadata": {
        "id": "_JRx7_h9aj7d"
      },
      "execution_count": null,
      "outputs": []
    },
    {
      "cell_type": "markdown",
      "source": [
        "## Mesures de dispersion:\n",
        "Les mesures de tendance centrale visent à identifier la valeur la plus représentative d’un ensemble de données, c’est-à-dire le centre de la distribution. Les mesures de dispersion principales sont les suivantes:\n",
        "\n",
        "*   L’étendue, qui est la différence entre la plus grande valeur et la plus petite;\n",
        "*   L’écart interquartile, qui est l’étendue du 50% des données qui sont au centre de la distribution;\n",
        "*   La variance, qui est l’écart élevé au carré moyen entre chaque donnée et le centre de la distribution ;\n",
        "*   L’écart-type, la racine carrée de la variance."
      ],
      "metadata": {
        "id": "rATIOV1Zfxrb"
      }
    },
    {
      "cell_type": "markdown",
      "source": [
        "__Exemple (cas discret)__ Reprenonon l'exemple précédent:\n",
        "\n",
        "| $X$  | 1  |  2  |  3  |  4  |  5  |  6  |\n",
        "|:----:|:--:|:---:|:---:|:---:|:---:|:---:|\n",
        "|$n_i$ | 15 |  20 |  25 |  20 |  7  |  13 |\n",
        "\n",
        "L'étendu est $6-1=5$.\n",
        "\n",
        "L'écart interquantile est $Q_3-Q_1$ où $Q_1$ et $Q_3$ sont le premier et le troisième quartile.\n",
        "\n",
        "$Q_1=2$ et $Q_3=4$, $IIQ=4-2=2$.\n",
        "\n",
        "Il est à noter qu'on peut représenter la boîte à moustaches, parfois appelée diagramme en boîte ou diagramme de quartiles, qui est un type de diagramme qui permet de visualiser le résumé en cinq nombres. La boîte à moustaches est également idéale pour comparer des distributions, car elle fait apparaître immédiatement le centre, la dispersion et l’étendue. \n",
        "\n",
        "$V(X)=\\dfrac{1}{n}\\sum_{i=1}^nn_i(X_i-\\overline{X})^2=\\overline{X^2}-{\\overline{X}}^2$"
      ],
      "metadata": {
        "id": "Q3ndB8iNgFEH"
      }
    },
    {
      "cell_type": "code",
      "source": [
        "nni=c(15,20,25,20,7,13)\n",
        "xx=1:6\n",
        "x2bar=1/sum(nni)*sum(nni*xx^2)\n",
        "xbar=1/sum(nni)*sum(nni*xx)\n",
        "var_x=x2bar-xbar^2\n",
        "var_x\n",
        "# ou\n",
        "xxi=rep(1:6,nni)\n",
        "var.x=1/sum(nni)*sum((xxi-mean(xxi))^2)\n",
        "var.x\n",
        "sqrt(var.x)\n",
        "boxplot(xxi)"
      ],
      "metadata": {
        "colab": {
          "base_uri": "https://localhost:8080/",
          "height": 489
        },
        "id": "t_vVP5ExmQos",
        "outputId": "bcfe3cf3-03eb-4bdd-8af1-25b7bff62767"
      },
      "execution_count": null,
      "outputs": [
        {
          "output_type": "display_data",
          "data": {
            "text/html": [
              "2.3971"
            ],
            "text/markdown": "2.3971",
            "text/latex": "2.3971",
            "text/plain": [
              "[1] 2.3971"
            ]
          },
          "metadata": {}
        },
        {
          "output_type": "display_data",
          "data": {
            "text/html": [
              "2.3971"
            ],
            "text/markdown": "2.3971",
            "text/latex": "2.3971",
            "text/plain": [
              "[1] 2.3971"
            ]
          },
          "metadata": {}
        },
        {
          "output_type": "display_data",
          "data": {
            "text/html": [
              "1.54825708459545"
            ],
            "text/markdown": "1.54825708459545",
            "text/latex": "1.54825708459545",
            "text/plain": [
              "[1] 1.548257"
            ]
          },
          "metadata": {}
        },
        {
          "output_type": "display_data",
          "data": {
            "text/plain": [
              "plot without title"
            ],
            "image/png": "[encoded data removed]"
          },
          "metadata": {
            "image/png": {
              "width": 420,
              "height": 420
            }
          }
        }
      ]
    },
    {
      "cell_type": "markdown",
      "source": [
        "L'écart-type: $\\sigma(X)=\\sqrt{V(X)}=1.548$.\n",
        "\n",
        "Pour le cas continu, on remplace $X_i$ par $c_i$."
      ],
      "metadata": {
        "id": "2hqPOyYUnfBt"
      }
    },
    {
      "cell_type": "markdown",
      "source": [
        "## Mesures de concentration\n",
        "\n",
        "Les indicateurs de concentration permettent l'analyse de la répartition de la masse du caractère entre les cas. On distingue entre trois indicateurs:\n",
        "\n",
        "*   Indice de Gini\n",
        "*   Indice de Hoover\n",
        "*   Indice de Theil\n",
        "\n",
        "On commence tout d'abord par définir la courbe de concentration de Lorenz.\n",
        "\n",
        "Soient $F_i=\\displaystyle{\\sum_{j\\leq i}f_j}$, la fréquence relative des __individus__ et $Q_i=\\displaystyle{\\sum_{j\\leq i}q_j}$ où $q_i=\\dfrac{n_ix_i}{\\sum n_ix_i}$, la fréquence de la __variable__.\n",
        "\n",
        "On définit la courbe de Lorenz par les lieux géométrique des points $(F_i,Q_i)$.\n",
        "\n",
        "__Exemple (discret)__\n",
        "\n",
        "| $X$    | 1  |  2  |  3  |  4  |  5  |  6  |\n",
        "|:------:|:--:|:---:|:---:|:---:|:---:|:---:|\n",
        "|$n_i$   | 15 |  20 |  25 |  20 |  7  |  13 |\n",
        "|$q_i$   | 15 |  40 |  75 |  80 |  35 |  78 |\n",
        "|$F_i$   |0.15| 0.35| 0.6 |  0.8| 0.87|  1  |\n",
        "|$Q_i$   |0.046 | 0.17 |0.404 |0.65|0.758 |1 |\n"
      ],
      "metadata": {
        "id": "aKjRbK7V3i1-"
      }
    },
    {
      "cell_type": "code",
      "source": [
        "xi=1:6\n",
        "ni=c(15,20,25,20,7,13)\n",
        "F_i=cumsum(ni)/sum(ni)\n",
        "F_i\n",
        "qi=ni*xi/sum(ni*xi)\n",
        "Q_i=cumsum(qi)\n",
        "Q_i\n",
        "plot(c(0,F_i),c(0,Q_i),type='b',col=2,lwd=2)\n",
        "abline(a=0,b=1,lwd=2)"
      ],
      "metadata": {
        "colab": {
          "base_uri": "https://localhost:8080/",
          "height": 472
        },
        "id": "C3e6g-l08y_A",
        "outputId": "678aa062-97b5-45e8-a1a7-20974c77632d"
      },
      "execution_count": 33,
      "outputs": [
        {
          "output_type": "display_data",
          "data": {
            "text/html": [
              "<style>\n",
              ".list-inline {list-style: none; margin:0; padding: 0}\n",
              ".list-inline>li {display: inline-block}\n",
              ".list-inline>li:not(:last-child)::after {content: \"\\00b7\"; padding: 0 .5ex}\n",
              "</style>\n",
              "<ol class=list-inline><li>0.15</li><li>0.35</li><li>0.6</li><li>0.8</li><li>0.87</li><li>1</li></ol>\n"
            ],
            "text/markdown": "1. 0.15\n2. 0.35\n3. 0.6\n4. 0.8\n5. 0.87\n6. 1\n\n\n",
            "text/latex": "\\begin{enumerate*}\n\\item 0.15\n\\item 0.35\n\\item 0.6\n\\item 0.8\n\\item 0.87\n\\item 1\n\\end{enumerate*}\n",
            "text/plain": [
              "[1] 0.15 0.35 0.60 0.80 0.87 1.00"
            ]
          },
          "metadata": {}
        },
        {
          "output_type": "display_data",
          "data": {
            "text/html": [
              "<style>\n",
              ".list-inline {list-style: none; margin:0; padding: 0}\n",
              ".list-inline>li {display: inline-block}\n",
              ".list-inline>li:not(:last-child)::after {content: \"\\00b7\"; padding: 0 .5ex}\n",
              "</style>\n",
              "<ol class=list-inline><li>0.0464396284829721</li><li>0.170278637770898</li><li>0.402476780185758</li><li>0.65015479876161</li><li>0.758513931888545</li><li>1</li></ol>\n"
            ],
            "text/markdown": "1. 0.0464396284829721\n2. 0.170278637770898\n3. 0.402476780185758\n4. 0.65015479876161\n5. 0.758513931888545\n6. 1\n\n\n",
            "text/latex": "\\begin{enumerate*}\n\\item 0.0464396284829721\n\\item 0.170278637770898\n\\item 0.402476780185758\n\\item 0.65015479876161\n\\item 0.758513931888545\n\\item 1\n\\end{enumerate*}\n",
            "text/plain": [
              "[1] 0.04643963 0.17027864 0.40247678 0.65015480 0.75851393 1.00000000"
            ]
          },
          "metadata": {}
        },
        {
          "output_type": "display_data",
          "data": {
            "text/plain": [
              "plot without title"
            ],
            "image/png": "[encoded data removed]"
          },
          "metadata": {
            "image/png": {
              "width": 420,
              "height": 420
            }
          }
        }
      ]
    },
    {
      "cell_type": "markdown",
      "source": [
        "La concentration d'autant plus forte que la courbe de Lorenz est éloignée de la diagonale $\\Longrightarrow$ que la surface $S$ entre la courbe et la diagonale est grande.\n",
        "\n",
        "comment quantifier l'éloignement de la courbe de Lorenz de la droite d'égalité ? $\\Longrightarrow$ trois indicateurs de concentration proposés:"
      ],
      "metadata": {
        "id": "EbQ99SsX__tS"
      }
    },
    {
      "cell_type": "markdown",
      "source": [
        "### Indice de Gini\n",
        "\n",
        "l'indice de Ginic, noté $IG$ correspond au double de la surface entre la courbe de Lorenz et la droite d'égalité et varie entre 0 et 1 est la mesure la plus populaire, car facilement interprétable et permet des comparaisons temporelle et spatiale.\n",
        "\n",
        "Si $IG \\longrightarrow 0$, on dit que la répartition est égale.\n",
        "\n",
        "Si $IG \\longrightarrow 1$, on dit que la répartition est inégale.\n",
        "\n",
        "$$\n",
        "IG=2 S=\\sum_{i=1}^{n-1}F_iQ_{i+1}-\\sum_{i=1}^{n-1}F_{i+1}Q_i\n",
        "$$"
      ],
      "metadata": {
        "id": "HL9xIP-i_zeD"
      }
    },
    {
      "cell_type": "code",
      "source": [
        "IG=sum(F_i[1:5]*Q_i[2:6])-sum(F_i[2:6]*Q_i[1:5])\n",
        "IG"
      ],
      "metadata": {
        "colab": {
          "base_uri": "https://localhost:8080/",
          "height": 34
        },
        "id": "19dVwOBCCeol",
        "outputId": "755b371c-e5ec-4611-9a8b-8206f1d9c808"
      },
      "execution_count": 22,
      "outputs": [
        {
          "output_type": "display_data",
          "data": {
            "text/html": [
              "0.268761609907121"
            ],
            "text/markdown": "0.268761609907121",
            "text/latex": "0.268761609907121",
            "text/plain": [
              "[1] 0.2687616"
            ]
          },
          "metadata": {}
        }
      ]
    },
    {
      "cell_type": "code",
      "source": [
        "install.packages(\"REAT\")\n"
      ],
      "metadata": {
        "colab": {
          "base_uri": "https://localhost:8080/"
        },
        "id": "xWUMQShrDgPN",
        "outputId": "12aff08a-4491-4bbd-c1ec-060f7bbd8f30"
      },
      "execution_count": 27,
      "outputs": [
        {
          "output_type": "stream",
          "name": "stderr",
          "text": [
            "Installing package into ‘/usr/local/lib/R/site-library’\n",
            "(as ‘lib’ is unspecified)\n",
            "\n",
            "Installing package into ‘/usr/local/lib/R/site-library’\n",
            "(as ‘lib’ is unspecified)\n",
            "\n"
          ]
        }
      ]
    },
    {
      "cell_type": "code",
      "source": [
        "library(\"REAT\")\n",
        "xxi=rep(1:6,ni)\n",
        "ineq(xxi,type=\"Gini\")\n",
        "gini(xxi)"
      ],
      "metadata": {
        "colab": {
          "base_uri": "https://localhost:8080/",
          "height": 208
        },
        "id": "YNYZXJneDoxk",
        "outputId": "1911acc2-5698-41e6-e82a-9fb0e04da248"
      },
      "execution_count": 28,
      "outputs": [
        {
          "output_type": "stream",
          "name": "stderr",
          "text": [
            "\n",
            "Attaching package: ‘REAT’\n",
            "\n",
            "\n",
            "The following object is masked from ‘package:ineq’:\n",
            "\n",
            "    conc\n",
            "\n",
            "\n"
          ]
        },
        {
          "output_type": "display_data",
          "data": {
            "text/html": [
              "0.268761609907121"
            ],
            "text/markdown": "0.268761609907121",
            "text/latex": "0.268761609907121",
            "text/plain": [
              "[1] 0.2687616"
            ]
          },
          "metadata": {}
        },
        {
          "output_type": "display_data",
          "data": {
            "text/html": [
              "0.268761609907121"
            ],
            "text/markdown": "0.268761609907121",
            "text/latex": "0.268761609907121",
            "text/plain": [
              "[1] 0.2687616"
            ]
          },
          "metadata": {}
        }
      ]
    },
    {
      "cell_type": "markdown",
      "source": [
        "## Indice Hoover\n",
        "\n",
        "l'indice de Hoover indique la part de la masse totale (revenu) qu'il faut redistribuer pour une égalité parfaite correspond à la plus longue distance verticale entre la courbe de Lorenz et la droite d'égalité (diagonale) et varie entre 0 et 1.\n",
        "$$\n",
        "IH=\\dfrac{1}{2}\\sum_{i=1}^n|f_i-q_i|\n",
        "$$"
      ],
      "metadata": {
        "id": "DkZKNpPwEB5r"
      }
    },
    {
      "cell_type": "code",
      "source": [
        "fi=ni/sum(ni)\n",
        "IH=0.5*sum(abs(fi-qi))\n",
        "IH"
      ],
      "metadata": {
        "colab": {
          "base_uri": "https://localhost:8080/",
          "height": 34
        },
        "id": "9Joyg77cFYlt",
        "outputId": "27050502-bd39-4a96-f6cd-8629bccb1e7a"
      },
      "execution_count": 36,
      "outputs": [
        {
          "output_type": "display_data",
          "data": {
            "text/html": [
              "0.197523219814241"
            ],
            "text/markdown": "0.197523219814241",
            "text/latex": "0.197523219814241",
            "text/plain": [
              "[1] 0.1975232"
            ]
          },
          "metadata": {}
        }
      ]
    },
    {
      "cell_type": "code",
      "source": [
        "hoover(xxi)"
      ],
      "metadata": {
        "colab": {
          "base_uri": "https://localhost:8080/",
          "height": 34
        },
        "id": "VGejcPr0GKC9",
        "outputId": "dcb9ae37-ca80-4424-eaf9-87cc666dc810"
      },
      "execution_count": 37,
      "outputs": [
        {
          "output_type": "display_data",
          "data": {
            "text/html": [
              "0.197523219814241"
            ],
            "text/markdown": "0.197523219814241",
            "text/latex": "0.197523219814241",
            "text/plain": [
              "[1] 0.1975232"
            ]
          },
          "metadata": {}
        }
      ]
    },
    {
      "cell_type": "markdown",
      "source": [
        "## Indice de Theil\n",
        "\n",
        "l'indice de Theil, noté $IT$ varie entre 0 et $\\infty$. La normalisation $IT_{\\text{norm}}=1−e^{−IT}$ fait varier $IT_{\\text{norm}}$ entre 0 et 1.\n",
        "$$\n",
        "IT=\\dfrac{1}{2}\\sum_{i=1}^n\\ln\\left(\\dfrac{q_i}{f_i} \\right)\\left( q_i -f_i\\right)\n",
        "$$"
      ],
      "metadata": {
        "id": "4WNQZ-zyGT8N"
      }
    },
    {
      "cell_type": "code",
      "source": [
        "IT=0.5*sum(log(qi/fi)*(qi-fi))\n",
        "IT \n",
        "IT_norm=1-exp(-IT)\n",
        "IT_norm\n"
      ],
      "metadata": {
        "colab": {
          "base_uri": "https://localhost:8080/",
          "height": 52
        },
        "id": "nZGt7J00Hg3u",
        "outputId": "361caf8c-4fff-4692-a4c6-d0f999650e93"
      },
      "execution_count": 39,
      "outputs": [
        {
          "output_type": "display_data",
          "data": {
            "text/html": [
              "0.127620257092246"
            ],
            "text/markdown": "0.127620257092246",
            "text/latex": "0.127620257092246",
            "text/plain": [
              "[1] 0.1276203"
            ]
          },
          "metadata": {}
        },
        {
          "output_type": "display_data",
          "data": {
            "text/html": [
              "0.119812439327246"
            ],
            "text/markdown": "0.119812439327246",
            "text/latex": "0.119812439327246",
            "text/plain": [
              "[1] 0.1198124"
            ]
          },
          "metadata": {}
        }
      ]
    },
    {
      "cell_type": "markdown",
      "source": [
        "## Exercice\n",
        "\n",
        "Dans le tableu suivant, on donne la répartition de la fortune nette, ($X_i$), en Suisse en 2004.\n",
        "\n",
        "| Fortune (milliers)       |   Effectifs  |\n",
        "|:------------------------:|:------------:|\n",
        "| $[0,50[$                 |  $2575655$   |\n",
        "| $[50,100[$               |    $480675$  |\n",
        "| $[100,200[$              |    $489752$  |\n",
        "| $[200,500[$              |    $563965$  |\n",
        "| $[500,1000[$             |  $261034$    |\n",
        "| $[1000,2000[$            |  $112272$    |\n",
        "| $[2000,3000[$            |  $29515$     |\n",
        "| $[3000,5000[$            |  $19536$     |\n",
        "| $[5000,10000[$           |  $11365$     |\n",
        "| $\\geq 10000$             |  $16742$     |\n",
        "\n",
        "1) Réprésenter l'ihistogramme.\n",
        "\n",
        "2) Déterminer le mode et la médiane de la variable.\n",
        "\n",
        "3) Calculer la moyenne arithmétique et la variance. En déduire la moyenne et la variance de $Y=-2X+5$\n",
        "\n",
        "4) Représenter la courbe de Lorenz. Interpréter.\n",
        "\n",
        "5) Calculer les indices de concentration (Gini, Hoover et Theil). Interpréter."
      ],
      "metadata": {
        "id": "yMsKwtRBIxpP"
      }
    },
    {
      "cell_type": "code",
      "source": [
        "a=c(0,50,100,200,500,1000,2000,3000,5000,10000)\n",
        "b=c(a[-1],15000)\n",
        "ai=b-a\n",
        "ni=c(2575655,480675,489750,563965,261034,112272,29515,19536,11365,16742)\n",
        "ci=0.5*(a+b)\n",
        "fi=ni/sum(ni)\n",
        "fi_c=fi/ai\n",
        "Fi=cumsum(fi)\n",
        "qi=ni*ci/sum(ni*ci)\n",
        "Qi=cumsum(qi)\n",
        "Tab=cbind(a,b,ni,ai,ci,fi,fi_c,Fi,qi,Qi)\n",
        "Tab"
      ],
      "metadata": {
        "colab": {
          "base_uri": "https://localhost:8080/",
          "height": 380
        },
        "id": "KBEQjhciqvIW",
        "outputId": "4fbb71c7-b8bd-4c32-93d4-f1c4ffad4209"
      },
      "execution_count": 6,
      "outputs": [
        {
          "output_type": "display_data",
          "data": {
            "text/html": [
              "<table class=\"dataframe\">\n",
              "<caption>A matrix: 10 × 10 of type dbl</caption>\n",
              "<thead>\n",
              "\t<tr><th scope=col>a</th><th scope=col>b</th><th scope=col>ni</th><th scope=col>ai</th><th scope=col>ci</th><th scope=col>fi</th><th scope=col>ni_c</th><th scope=col>Fi</th><th scope=col>qi</th><th scope=col>Qi</th></tr>\n",
              "</thead>\n",
              "<tbody>\n",
              "\t<tr><td>    0</td><td>   50</td><td>2575655</td><td>  50</td><td>   25</td><td>0.564773581</td><td>51513.1000</td><td>0.5647736</td><td>0.05448033</td><td>0.05448033</td></tr>\n",
              "\t<tr><td>   50</td><td>  100</td><td> 480675</td><td>  50</td><td>   75</td><td>0.105399419</td><td> 9613.5000</td><td>0.6701730</td><td>0.03050175</td><td>0.08498208</td></tr>\n",
              "\t<tr><td>  100</td><td>  200</td><td> 489750</td><td> 100</td><td>  150</td><td>0.107389329</td><td> 4897.5000</td><td>0.7775623</td><td>0.06215524</td><td>0.14713732</td></tr>\n",
              "\t<tr><td>  200</td><td>  500</td><td> 563965</td><td> 300</td><td>  350</td><td>0.123662732</td><td> 1879.8833</td><td>0.9012251</td><td>0.16700605</td><td>0.31414337</td></tr>\n",
              "\t<tr><td>  500</td><td> 1000</td><td> 261034</td><td> 500</td><td>  750</td><td>0.057237909</td><td>  522.0680</td><td>0.9584630</td><td>0.16564196</td><td>0.47978532</td></tr>\n",
              "\t<tr><td> 1000</td><td> 2000</td><td> 112272</td><td>1000</td><td> 1500</td><td>0.024618305</td><td>  112.2720</td><td>0.9830813</td><td>0.14248683</td><td>0.62227216</td></tr>\n",
              "\t<tr><td> 2000</td><td> 3000</td><td>  29515</td><td>1000</td><td> 2500</td><td>0.006471865</td><td>   29.5150</td><td>0.9895531</td><td>0.06243021</td><td>0.68470237</td></tr>\n",
              "\t<tr><td> 3000</td><td> 5000</td><td>  19536</td><td>2000</td><td> 4000</td><td>0.004283732</td><td>    9.7680</td><td>0.9938369</td><td>0.06611616</td><td>0.75081853</td></tr>\n",
              "\t<tr><td> 5000</td><td>10000</td><td>  11365</td><td>5000</td><td> 7500</td><td>0.002492046</td><td>    2.2730</td><td>0.9963289</td><td>0.07211784</td><td>0.82293637</td></tr>\n",
              "\t<tr><td>10000</td><td>15000</td><td>  16742</td><td>5000</td><td>12500</td><td>0.003671081</td><td>    3.3484</td><td>1.0000000</td><td>0.17706363</td><td>1.00000000</td></tr>\n",
              "</tbody>\n",
              "</table>\n"
            ],
            "text/markdown": "\nA matrix: 10 × 10 of type dbl\n\n| a | b | ni | ai | ci | fi | ni_c | Fi | qi | Qi |\n|---|---|---|---|---|---|---|---|---|---|\n|     0 |    50 | 2575655 |   50 |    25 | 0.564773581 | 51513.1000 | 0.5647736 | 0.05448033 | 0.05448033 |\n|    50 |   100 |  480675 |   50 |    75 | 0.105399419 |  9613.5000 | 0.6701730 | 0.03050175 | 0.08498208 |\n|   100 |   200 |  489750 |  100 |   150 | 0.107389329 |  4897.5000 | 0.7775623 | 0.06215524 | 0.14713732 |\n|   200 |   500 |  563965 |  300 |   350 | 0.123662732 |  1879.8833 | 0.9012251 | 0.16700605 | 0.31414337 |\n|   500 |  1000 |  261034 |  500 |   750 | 0.057237909 |   522.0680 | 0.9584630 | 0.16564196 | 0.47978532 |\n|  1000 |  2000 |  112272 | 1000 |  1500 | 0.024618305 |   112.2720 | 0.9830813 | 0.14248683 | 0.62227216 |\n|  2000 |  3000 |   29515 | 1000 |  2500 | 0.006471865 |    29.5150 | 0.9895531 | 0.06243021 | 0.68470237 |\n|  3000 |  5000 |   19536 | 2000 |  4000 | 0.004283732 |     9.7680 | 0.9938369 | 0.06611616 | 0.75081853 |\n|  5000 | 10000 |   11365 | 5000 |  7500 | 0.002492046 |     2.2730 | 0.9963289 | 0.07211784 | 0.82293637 |\n| 10000 | 15000 |   16742 | 5000 | 12500 | 0.003671081 |     3.3484 | 1.0000000 | 0.17706363 | 1.00000000 |\n\n",
            "text/latex": "A matrix: 10 × 10 of type dbl\n\\begin{tabular}{llllllllll}\n a & b & ni & ai & ci & fi & ni\\_c & Fi & qi & Qi\\\\\n\\hline\n\t     0 &    50 & 2575655 &   50 &    25 & 0.564773581 & 51513.1000 & 0.5647736 & 0.05448033 & 0.05448033\\\\\n\t    50 &   100 &  480675 &   50 &    75 & 0.105399419 &  9613.5000 & 0.6701730 & 0.03050175 & 0.08498208\\\\\n\t   100 &   200 &  489750 &  100 &   150 & 0.107389329 &  4897.5000 & 0.7775623 & 0.06215524 & 0.14713732\\\\\n\t   200 &   500 &  563965 &  300 &   350 & 0.123662732 &  1879.8833 & 0.9012251 & 0.16700605 & 0.31414337\\\\\n\t   500 &  1000 &  261034 &  500 &   750 & 0.057237909 &   522.0680 & 0.9584630 & 0.16564196 & 0.47978532\\\\\n\t  1000 &  2000 &  112272 & 1000 &  1500 & 0.024618305 &   112.2720 & 0.9830813 & 0.14248683 & 0.62227216\\\\\n\t  2000 &  3000 &   29515 & 1000 &  2500 & 0.006471865 &    29.5150 & 0.9895531 & 0.06243021 & 0.68470237\\\\\n\t  3000 &  5000 &   19536 & 2000 &  4000 & 0.004283732 &     9.7680 & 0.9938369 & 0.06611616 & 0.75081853\\\\\n\t  5000 & 10000 &   11365 & 5000 &  7500 & 0.002492046 &     2.2730 & 0.9963289 & 0.07211784 & 0.82293637\\\\\n\t 10000 & 15000 &   16742 & 5000 & 12500 & 0.003671081 &     3.3484 & 1.0000000 & 0.17706363 & 1.00000000\\\\\n\\end{tabular}\n",
            "text/plain": [
              "      a     b     ni      ai   ci    fi          ni_c       Fi       \n",
              " [1,]     0    50 2575655   50    25 0.564773581 51513.1000 0.5647736\n",
              " [2,]    50   100  480675   50    75 0.105399419  9613.5000 0.6701730\n",
              " [3,]   100   200  489750  100   150 0.107389329  4897.5000 0.7775623\n",
              " [4,]   200   500  563965  300   350 0.123662732  1879.8833 0.9012251\n",
              " [5,]   500  1000  261034  500   750 0.057237909   522.0680 0.9584630\n",
              " [6,]  1000  2000  112272 1000  1500 0.024618305   112.2720 0.9830813\n",
              " [7,]  2000  3000   29515 1000  2500 0.006471865    29.5150 0.9895531\n",
              " [8,]  3000  5000   19536 2000  4000 0.004283732     9.7680 0.9938369\n",
              " [9,]  5000 10000   11365 5000  7500 0.002492046     2.2730 0.9963289\n",
              "[10,] 10000 15000   16742 5000 12500 0.003671081     3.3484 1.0000000\n",
              "      qi         Qi        \n",
              " [1,] 0.05448033 0.05448033\n",
              " [2,] 0.03050175 0.08498208\n",
              " [3,] 0.06215524 0.14713732\n",
              " [4,] 0.16700605 0.31414337\n",
              " [5,] 0.16564196 0.47978532\n",
              " [6,] 0.14248683 0.62227216\n",
              " [7,] 0.06243021 0.68470237\n",
              " [8,] 0.06611616 0.75081853\n",
              " [9,] 0.07211784 0.82293637\n",
              "[10,] 0.17706363 1.00000000"
            ]
          },
          "metadata": {}
        }
      ]
    },
    {
      "cell_type": "code",
      "source": [
        "# hitogramme\n",
        "barplot(fi_c)"
      ],
      "metadata": {
        "colab": {
          "base_uri": "https://localhost:8080/",
          "height": 437
        },
        "id": "6hRLcrR1ul0F",
        "outputId": "de605c8a-527c-4e36-ca4d-d189c173f9dc"
      },
      "execution_count": 7,
      "outputs": [
        {
          "output_type": "display_data",
          "data": {
            "text/plain": [
              "plot without title"
            ],
            "image/png": "[encoded data removed]"
          },
          "metadata": {
            "image/png": {
              "width": 420,
              "height": 420
            }
          }
        }
      ]
    },
    {
      "cell_type": "markdown",
      "source": [
        "2) La classe modale est celle qui correspond à la fréquence corrigée la plus élevée; $Mo(X)=[0,50]$. \n",
        "\n",
        "La médiane est telle que $F(Me)=0.5$. D'aprés le tableau, et plus précisement, d'après la colonne des fréquences cumulée, on a $0.5 \\in [0,0.5647]$, d'où $Me \\in [0,50]$.\n",
        "$$\n",
        "0 ⟷ 0\n",
        "$$\n",
        "$$\n",
        "Me ⟷ 0.5\n",
        "$$\n",
        "$$\n",
        "50 ⟷ 0.5647\n",
        "$$\n",
        "\n",
        "Soit $Me=50\\times \\dfrac{0.5}{0.56477}=44.26553$. On dit que $50 \\%$ des suisses ont une fortune inférieur ou égale à 44.265 milles CHF."
      ],
      "metadata": {
        "id": "j2RP2mtvu2jS"
      }
    },
    {
      "cell_type": "markdown",
      "source": [
        "3) La moyenne est donnée par $\\overline{X}=\\dfrac{1}{n}\\sum n_ic_i=\\sum f_ic_i$"
      ],
      "metadata": {
        "id": "CMM1jKxYyKgk"
      }
    },
    {
      "cell_type": "code",
      "source": [
        "X.bar=sum(fi*ci)\n",
        "X.bar"
      ],
      "metadata": {
        "colab": {
          "base_uri": "https://localhost:8080/",
          "height": 34
        },
        "id": "dDWUmPpxyeyD",
        "outputId": "24066d37-faf3-4dc1-a426-6ed322158b88"
      },
      "execution_count": 9,
      "outputs": [
        {
          "output_type": "display_data",
          "data": {
            "text/html": [
              "259.163999018531"
            ],
            "text/markdown": "259.163999018531",
            "text/latex": "259.163999018531",
            "text/plain": [
              "[1] 259.164"
            ]
          },
          "metadata": {}
        }
      ]
    },
    {
      "cell_type": "markdown",
      "source": [
        "Interprétation: En moyenne, un suisse a une fortune de 259.163 milles CHF.\n",
        "\n",
        "La variance est: $V(X)=\\dfrac{1}{n}\\sum n_i c_i^2-{\\overline{X}}^2$"
      ],
      "metadata": {
        "id": "vrB8O75XykU1"
      }
    },
    {
      "cell_type": "code",
      "source": [
        "v_X=sum(fi*ci^2)-X.bar^2\n",
        "v_X"
      ],
      "metadata": {
        "colab": {
          "base_uri": "https://localhost:8080/",
          "height": 34
        },
        "id": "N0SvBEJkz1w8",
        "outputId": "188098ec-108d-4576-8715-576c201f87a7"
      },
      "execution_count": 10,
      "outputs": [
        {
          "output_type": "display_data",
          "data": {
            "text/html": [
              "861705.293163772"
            ],
            "text/markdown": "861705.293163772",
            "text/latex": "861705.293163772",
            "text/plain": [
              "[1] 861705.3"
            ]
          },
          "metadata": {}
        }
      ]
    },
    {
      "cell_type": "markdown",
      "source": [
        "La variance mesure le degré de dispersion des données autour de leur moyenne. Plus la variance est élevée, plus les données sont dispersées."
      ],
      "metadata": {
        "id": "eTjrDUB-0Htz"
      }
    },
    {
      "cell_type": "markdown",
      "source": [
        "La moyenne de $Y=-2X+5$ est $\\overline{Y}=-2\\overline{X}+5$ et la variance est $V(Y)=4V(X)$"
      ],
      "metadata": {
        "id": "VccQFeDI0TCj"
      }
    },
    {
      "cell_type": "code",
      "source": [
        "y_bar=-2*X.bar+5\n",
        "y_bar\n",
        "v_y=4*v_X\n",
        "v_y"
      ],
      "metadata": {
        "colab": {
          "base_uri": "https://localhost:8080/",
          "height": 52
        },
        "id": "ZLGlGXgT0qzL",
        "outputId": "9b07eea7-2899-43a4-ffa2-28277ace40e1"
      },
      "execution_count": 11,
      "outputs": [
        {
          "output_type": "display_data",
          "data": {
            "text/html": [
              "-513.327998037061"
            ],
            "text/markdown": "-513.327998037061",
            "text/latex": "-513.327998037061",
            "text/plain": [
              "[1] -513.328"
            ]
          },
          "metadata": {}
        },
        {
          "output_type": "display_data",
          "data": {
            "text/html": [
              "3446821.17265509"
            ],
            "text/markdown": "3446821.17265509",
            "text/latex": "3446821.17265509",
            "text/plain": [
              "[1] 3446821"
            ]
          },
          "metadata": {}
        }
      ]
    },
    {
      "cell_type": "markdown",
      "source": [
        "4) La courbe de Lorenz est les lieux géométriques des points $(F_i, Q_i)$"
      ],
      "metadata": {
        "id": "qnCAMH8A0520"
      }
    },
    {
      "cell_type": "code",
      "source": [
        "plot(c(0,Fi),c(0,Qi), type=\"b\")\n",
        "abline(a=0,b=1)"
      ],
      "metadata": {
        "colab": {
          "base_uri": "https://localhost:8080/",
          "height": 437
        },
        "id": "fmoKaswZ1HsM",
        "outputId": "adf8ae34-28f9-4c7e-bc6b-81e79d3d8697"
      },
      "execution_count": 12,
      "outputs": [
        {
          "output_type": "display_data",
          "data": {
            "text/plain": [
              "plot without title"
            ],
            "image/png": "[encoded data removed]"
          },
          "metadata": {
            "image/png": {
              "width": 420,
              "height": 420
            }
          }
        }
      ]
    },
    {
      "cell_type": "markdown",
      "source": [
        "D'après la courbe de Lorenz, on remarque bien qu'elle est éloignée à la première bissectrice, donc la répartion des fortune chez les suisses est inégales."
      ],
      "metadata": {
        "id": "_oCrQtBL1YTy"
      }
    },
    {
      "cell_type": "markdown",
      "source": [
        "Indice de Gini: \n",
        "$$\n",
        "IG=2 S=\\sum_{i=1}^{n-1}F_iQ_{i+1}-\\sum_{i=1}^{n-1}F_{i+1}Q_i\n",
        "$$"
      ],
      "metadata": {
        "id": "WxvtPshF2HsU"
      }
    },
    {
      "cell_type": "code",
      "source": [
        "IG=sum(Fi[-10]*Qi[-1])-sum(Fi[-1]*Qi[-10])\n",
        "IG"
      ],
      "metadata": {
        "colab": {
          "base_uri": "https://localhost:8080/",
          "height": 34
        },
        "id": "FJD4DdSN2T8r",
        "outputId": "41f9c8f4-2a69-4cbb-a04d-809ff593ba01"
      },
      "execution_count": 14,
      "outputs": [
        {
          "output_type": "display_data",
          "data": {
            "text/html": [
              "0.774765744331436"
            ],
            "text/markdown": "0.774765744331436",
            "text/latex": "0.774765744331436",
            "text/plain": [
              "[1] 0.7747657"
            ]
          },
          "metadata": {}
        }
      ]
    },
    {
      "cell_type": "markdown",
      "source": [
        "Indice de Hoover\n",
        "$$\n",
        "IH=\\dfrac{1}{2}\\sum_{i=1}^n|f_i-q_i|\n",
        "$$"
      ],
      "metadata": {
        "id": "IadO62bL2uGL"
      }
    },
    {
      "cell_type": "code",
      "source": [
        "IH=0.5*sum(abs(fi-qi))\n",
        "IH"
      ],
      "metadata": {
        "colab": {
          "base_uri": "https://localhost:8080/",
          "height": 34
        },
        "id": "WmVDyljD3f0t",
        "outputId": "5b92ba7f-08e4-4c88-e465-25d13c8ae0d2"
      },
      "execution_count": 15,
      "outputs": [
        {
          "output_type": "display_data",
          "data": {
            "text/html": [
              "0.630425012899252"
            ],
            "text/markdown": "0.630425012899252",
            "text/latex": "0.630425012899252",
            "text/plain": [
              "[1] 0.630425"
            ]
          },
          "metadata": {}
        }
      ]
    },
    {
      "cell_type": "markdown",
      "source": [
        "Indice de Theil\n",
        "$$\n",
        "IT=\\dfrac{1}{2}\\sum_{i=1}^n\\ln\\left(\\dfrac{q_i}{f_i} \\right)\\left( q_i -f_i\\right)\n",
        "$$"
      ],
      "metadata": {
        "id": "x3RsOOLy3pAr"
      }
    },
    {
      "cell_type": "code",
      "source": [
        "IT=0.5*sum(log(qi/fi)*(qi-fi))\n",
        "ITm=1-exp(-IT)\n",
        "ITm"
      ],
      "metadata": {
        "colab": {
          "base_uri": "https://localhost:8080/",
          "height": 34
        },
        "id": "wHDRtsKu36gs",
        "outputId": "490b6d97-4df6-4cd0-d74f-b228e9442e6f"
      },
      "execution_count": 16,
      "outputs": [
        {
          "output_type": "display_data",
          "data": {
            "text/html": [
              "0.759317884289062"
            ],
            "text/markdown": "0.759317884289062",
            "text/latex": "0.759317884289062",
            "text/plain": [
              "[1] 0.7593179"
            ]
          },
          "metadata": {}
        }
      ]
    },
    {
      "cell_type": "markdown",
      "source": [
        "## Corrélation:\n",
        "\n",
        "Soit $X$ et $Y$ deux variables statistiques quantitatives. On définit les quantités suivantes:\n",
        "\n",
        "*   $Cov(X,Y)=\\dfrac{1}{n}\\displaystyle{\\sum_{i=1}^n(X_i-\\overline{X})(Y_i-\\overline{Y})}$: la covariance entre $X$ et $Y$.\n",
        "*   $\\rho_{xy}=\\dfrac{Cov(X,Y)}{\\sigma_x \\sigma_y}$: la corrélation entre $X$ et $Y$.\n",
        "\n",
        "Le coefficient de corrélation est compris entre $-1$ et $1$.\n",
        "\n",
        "On considère la série double suivante:\n",
        "\n",
        "| $X_i$  | 2  |  5  |  6  |  10  |  12  |\n",
        "|:------:|:--:|:---:|:---:|:----:|:----:|\n",
        "|  $Y_i$ | 83 |  70 |  70 |  54  |  49  |  "
      ],
      "metadata": {
        "id": "tVe5JPwUoSNk"
      }
    },
    {
      "cell_type": "code",
      "source": [
        "X=c(2,5,6,10,12)\n",
        "Y=c(83,70,70,54,49)\n",
        "cov(X,Y)\n",
        "cor(X,Y)"
      ],
      "metadata": {
        "id": "jffXDfGwtua-"
      },
      "execution_count": null,
      "outputs": []
    }
  ]
}